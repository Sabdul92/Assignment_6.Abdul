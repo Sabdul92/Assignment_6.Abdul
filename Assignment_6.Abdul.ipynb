{
 "cells": [
  {
   "cell_type": "code",
   "execution_count": null,
   "id": "a69b33fe",
   "metadata": {},
   "outputs": [],
   "source": [
    "Q.1. What are keywords in python? Using the keyword library, print all the python keywords.\n",
    "\n",
    "Ans:-Python keywords are...\n",
    "['False', 'None', 'True', 'and', 'as', 'assert', 'async', 'await', 'break', 'class', 'continue', 'def', 'del', 'elif', \n",
    "'else', 'except', 'finally', 'for', 'from', 'global', 'if', 'import', 'in', 'is', 'lambda', \n",
    "'nonlocal', 'not', 'or', 'pass', 'raise', 'return', 'try', 'while', 'with', 'yield']"
   ]
  },
  {
   "cell_type": "code",
   "execution_count": null,
   "id": "a02a1e20",
   "metadata": {},
   "outputs": [],
   "source": [
    "Q.2. What are the rules to create variables in python?\n",
    "\n",
    "Ans.:- Rules for Python variables:\n",
    " * A variable name must start with a letter or the underscore character.\n",
    " * A variable name cannot start with a number.\n",
    " * A variable name can only contain alpha-numeric characters and underscores (A-z, 0-9, and _ )\n",
    " * Variable names are case-sensitive (age, Age and AGE are three different variables)\n"
   ]
  },
  {
   "cell_type": "code",
   "execution_count": null,
   "id": "1f9477f6",
   "metadata": {},
   "outputs": [],
   "source": [
    "Q.3. What are the standards and conventions followed for the nomenclature of variables in\n",
    "python to improve code readability and maintainability?\n",
    "\n",
    "Ans:- Python naming conventions are a set of guidelines established in PEP8, Python’s official style guide. \n",
    "    These guidelines set the standard for how we name variables, functions, classes, modules, and other identifiers. \n",
    "    Function and variable names should be lowercase, with words separated by underscores as necessary to improve readability.\n",
    "    mixedCase is allowed only in contexts where that's already the prevailing style (e.g. threading.py), \n",
    "    to retain backwards compatibility12"
   ]
  },
  {
   "cell_type": "code",
   "execution_count": null,
   "id": "8b58db7d",
   "metadata": {},
   "outputs": [],
   "source": [
    "Q.4. What will happen if a keyword is used as a variable name?\n",
    "\n",
    "Ans,:- Keywords are the words in programming language which have a special meaning decided the lanuage. \n",
    "       So we cannot use them as a variable as we cannot assign any value to them.\n"
   ]
  },
  {
   "cell_type": "code",
   "execution_count": null,
   "id": "83efbce8",
   "metadata": {},
   "outputs": [],
   "source": [
    "Q.5. For what purpose def keyword is used?\n",
    "\n",
    "Ans.:- The def keyword is used to create, (or define) a function in python."
   ]
  },
  {
   "cell_type": "code",
   "execution_count": null,
   "id": "f75f195e",
   "metadata": {},
   "outputs": [],
   "source": [
    "Q.6. What is the operation of this special character ‘\\’?\n",
    "\n",
    "Ans.:- In Python strings, the backslash \" \\\" is a special character, also called the \"escape\" character. \n",
    "    It is used in representing certain whitespace characters: \"\\t\" is a tab, \"\\n\" is a newline, and \"\\r\" is a carriage return."
   ]
  },
  {
   "cell_type": "code",
   "execution_count": null,
   "id": "66d01a85",
   "metadata": {},
   "outputs": [],
   "source": [
    "Q.7. Give an example of the following conditions:\n",
    "(i) Homogeneous list\n",
    "(ii) Heterogeneous set\n",
    "(iii) Homogeneous tuple\n",
    "\n",
    "Ans.:-     \n",
    "    \n",
    "(i) Homogeneous list:\n",
    "A homogeneous list is a list where all elements have the same data type. Here's an example of a homogeneous list of integers.\n",
    "numbers = [1, 2, 3, 4, 5]\n",
    "\n",
    "\n",
    "    (ii) Heterogeneous set:\n",
    "A heterogeneous set is a set where elements can have different data types. Here's an example of a heterogeneous set:\n",
    "my_set = {1, \"apple\", True, 3.14}\n",
    "\n",
    "    \n",
    "    (iii) Homogeneous tuple:\n",
    "A homogeneous tuple is a tuple where all elements have the same data type. Here's an example of a homogeneous tuple of strings:\n",
    "fruits = (\"apple\", \"banana\", \"cherry\", \"date\")\n",
    "\n"
   ]
  },
  {
   "cell_type": "code",
   "execution_count": null,
   "id": "59a930ee",
   "metadata": {},
   "outputs": [],
   "source": [
    "Q.8. What are mutable and immutable data types explain with example?\n",
    "\n",
    "Ans.:-\n",
    "    \n",
    " Mutable  \n",
    "*A mutable object can be changed after it is created\n",
    "*Examples : List, Set, Dictionary\n",
    "    \n",
    " Immutable Objects\n",
    "*An immutable object cannot be changed after it is created\n",
    "*Exg: tuples, int, float, bool, frozenset."
   ]
  },
  {
   "cell_type": "code",
   "execution_count": null,
   "id": "1b27757a",
   "metadata": {},
   "outputs": [],
   "source": [
    "Q.9. Write a code to create the given structure using only for loop.\n",
    "    *\n",
    "   ***\n",
    "  *****\n",
    " *******\n",
    "*********\n",
    "Ans.:-\n",
    "n = 5\n",
    "for i in range(5):\n",
    "    for j in range(i, n-1):\n",
    "        print(\" \" ,end=\"\")\n",
    "    for j in range(i+1):\n",
    "        print(\"*\", end = \"\")\n",
    "    for j in range(i):\n",
    "        print(\"*\", end = \"\" )\n",
    "    print()\n",
    "    \n",
    "*******************************************\n",
    "\n",
    "    *\n",
    "   ***\n",
    "  *****\n",
    " *******\n",
    "*********"
   ]
  },
  {
   "cell_type": "code",
   "execution_count": null,
   "id": "3424fc34",
   "metadata": {},
   "outputs": [],
   "source": [
    "Q.10. Write a code to create the given structure using while loop.\n",
    "|||||||||\n",
    " |||||||\n",
    "  |||||\n",
    "   |||\n",
    "    |\n",
    "Ans.:-\n",
    "rows = 5  # Number of rows\n",
    "spaces = 0  # Number of spaces\n",
    "stars = 9  # Number of stars in the first row\n",
    "\n",
    "while rows > 0:\n",
    "    print(' ' * spaces + '|' * stars)\n",
    "    spaces += 1\n",
    "    stars -= 2\n",
    "    rows -= 1\n",
    "    "
   ]
  }
 ],
 "metadata": {
  "kernelspec": {
   "display_name": "Python 3 (ipykernel)",
   "language": "python",
   "name": "python3"
  },
  "language_info": {
   "codemirror_mode": {
    "name": "ipython",
    "version": 3
   },
   "file_extension": ".py",
   "mimetype": "text/x-python",
   "name": "python",
   "nbconvert_exporter": "python",
   "pygments_lexer": "ipython3",
   "version": "3.10.9"
  }
 },
 "nbformat": 4,
 "nbformat_minor": 5
}
